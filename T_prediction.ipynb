{
  "nbformat": 4,
  "nbformat_minor": 0,
  "metadata": {
    "colab": {
      "provenance": [],
      "include_colab_link": true
    },
    "kernelspec": {
      "name": "python3",
      "display_name": "Python 3"
    },
    "language_info": {
      "name": "python"
    }
  },
  "cells": [
    {
      "cell_type": "markdown",
      "metadata": {
        "id": "view-in-github",
        "colab_type": "text"
      },
      "source": [
        "<a href=\"https://colab.research.google.com/github/shiffa-04/Titanic-ML-Model/blob/main/T_prediction.ipynb\" target=\"_parent\"><img src=\"https://colab.research.google.com/assets/colab-badge.svg\" alt=\"Open In Colab\"/></a>"
      ]
    },
    {
      "cell_type": "code",
      "execution_count": null,
      "metadata": {
        "id": "kpWounS73Y0U"
      },
      "outputs": [],
      "source": [
        "import pandas as pd\n",
        "import numpy as np\n",
        "from sklearn.model_selection import train_test_split\n",
        "from sklearn.preprocessing import StandardScaler, OneHotEncoder\n",
        "from sklearn.compose import ColumnTransformer\n",
        "import tensorflow as tf\n",
        "from tensorflow.keras.models import Sequential\n",
        "from tensorflow.keras.layers import Dense, Dropout\n",
        "from tensorflow.keras.utils import to_categorical\n",
        "from keras.callbacks import EarlyStopping\n",
        "from keras import regularizers"
      ]
    },
    {
      "cell_type": "code",
      "source": [
        "df = pd.read_csv(\"modified_file.csv\")\n",
        "columns_to_drop = ['Survived','PassengerId', 'Ticket', 'Fare', 'Name']\n",
        "X = df.drop(columns = columns_to_drop)\n",
        "y= df['Survived']\n",
        "\n",
        "numerical_transformer = StandardScaler()\n",
        "categorical_transformer = OneHotEncoder(handle_unknown='ignore')\n",
        "\n",
        "preprocessor = ColumnTransformer(\n",
        "   transformers = [('num',numerical_transformer,['Age','SibSp', 'Parch'] ),\n",
        "                   ('cat', categorical_transformer,['Pclass', 'Sex','Embarked'])\n",
        "   ])\n",
        "\n",
        "X_train, X_test, y_train, y_test = train_test_split(X, y,test_size=0.2,random_state = 10)"
      ],
      "metadata": {
        "id": "uoiElpRN68qR"
      },
      "execution_count": null,
      "outputs": []
    },
    {
      "cell_type": "code",
      "source": [
        "X_train = preprocessor.fit_transform(X_train)\n",
        "X_test = preprocessor.transform(X_test)\n",
        "\n",
        "X_train_shape = X_train.shape\n",
        "X_test_shape = X_test.shape\n",
        "\n",
        "print(f'Shape of X_train :{X_train_shape}')\n",
        "print(f'Shape of X_test:{X_test_shape}')\n",
        "\n",
        "X_train = np.array(X_train)\n",
        "X_test = np.array(X_test)\n",
        "y_train = np.array(y_train)\n",
        "y_test = np.array(y_test)\n",
        "\n"
      ],
      "metadata": {
        "colab": {
          "base_uri": "https://localhost:8080/"
        },
        "id": "RfujPl2iHDB6",
        "outputId": "cff502bb-cba0-4307-b08c-bdfa42f5a230"
      },
      "execution_count": null,
      "outputs": [
        {
          "output_type": "stream",
          "name": "stdout",
          "text": [
            "Shape of X_train :(712, 12)\n",
            "Shape of X_test:(179, 12)\n"
          ]
        }
      ]
    },
    {
      "cell_type": "code",
      "source": [
        "model = Sequential(\n",
        "    [\n",
        "        Dense(units = 64, input_dim = X_train.shape[1], kernel_regularizer=regularizers.l2(0.01), activation = 'relu', name='l1'),\n",
        "        Dropout(rate=0.3, name='dropout1'),\n",
        "        Dense(units = 1, activation = 'sigmoid', name='l3')\n",
        "    ]\n",
        ")"
      ],
      "metadata": {
        "id": "R4iMJsilKSPF"
      },
      "execution_count": null,
      "outputs": []
    },
    {
      "cell_type": "code",
      "source": [
        "model.compile(optimizer='adam', loss='binary_crossentropy', metrics=['accuracy'])"
      ],
      "metadata": {
        "id": "u1SQ1hXwMZLK"
      },
      "execution_count": null,
      "outputs": []
    },
    {
      "cell_type": "code",
      "source": [
        "early_stopping = EarlyStopping(monitor='val_loss', patience=10, restore_best_weights=True)\n"
      ],
      "metadata": {
        "id": "NbRYvGNTpxiV"
      },
      "execution_count": null,
      "outputs": []
    },
    {
      "cell_type": "code",
      "source": [
        "# batch_size = 20\n",
        "history = model.fit(X_train, y_train, epochs=100, validation_data=(X_test, y_test), callbacks=[early_stopping])"
      ],
      "metadata": {
        "colab": {
          "base_uri": "https://localhost:8080/"
        },
        "id": "jsvjTi0zNLjP",
        "outputId": "0ff0599f-9525-49f0-fd6f-5aa6800969b7"
      },
      "execution_count": null,
      "outputs": [
        {
          "output_type": "stream",
          "name": "stdout",
          "text": [
            "Epoch 1/100\n",
            "23/23 [==============================] - 1s 11ms/step - loss: 0.8427 - accuracy: 0.6404 - val_loss: 0.7536 - val_accuracy: 0.7598\n",
            "Epoch 2/100\n",
            "23/23 [==============================] - 0s 4ms/step - loss: 0.7651 - accuracy: 0.7037 - val_loss: 0.6889 - val_accuracy: 0.8045\n",
            "Epoch 3/100\n",
            "23/23 [==============================] - 0s 6ms/step - loss: 0.7073 - accuracy: 0.7514 - val_loss: 0.6385 - val_accuracy: 0.8212\n",
            "Epoch 4/100\n",
            "23/23 [==============================] - 0s 8ms/step - loss: 0.6658 - accuracy: 0.7753 - val_loss: 0.5987 - val_accuracy: 0.8268\n",
            "Epoch 5/100\n",
            "23/23 [==============================] - 0s 6ms/step - loss: 0.6281 - accuracy: 0.7935 - val_loss: 0.5692 - val_accuracy: 0.8212\n",
            "Epoch 6/100\n",
            "23/23 [==============================] - 0s 6ms/step - loss: 0.5984 - accuracy: 0.7978 - val_loss: 0.5441 - val_accuracy: 0.8268\n",
            "Epoch 7/100\n",
            "23/23 [==============================] - 0s 6ms/step - loss: 0.5781 - accuracy: 0.8076 - val_loss: 0.5290 - val_accuracy: 0.8212\n",
            "Epoch 8/100\n",
            "23/23 [==============================] - 0s 6ms/step - loss: 0.5610 - accuracy: 0.8076 - val_loss: 0.5158 - val_accuracy: 0.8212\n",
            "Epoch 9/100\n",
            "23/23 [==============================] - 0s 9ms/step - loss: 0.5475 - accuracy: 0.7921 - val_loss: 0.5077 - val_accuracy: 0.8212\n",
            "Epoch 10/100\n",
            "23/23 [==============================] - 0s 8ms/step - loss: 0.5388 - accuracy: 0.8090 - val_loss: 0.4950 - val_accuracy: 0.8212\n",
            "Epoch 11/100\n",
            "23/23 [==============================] - 0s 11ms/step - loss: 0.5351 - accuracy: 0.7893 - val_loss: 0.4867 - val_accuracy: 0.8268\n",
            "Epoch 12/100\n",
            "23/23 [==============================] - 0s 9ms/step - loss: 0.5284 - accuracy: 0.8174 - val_loss: 0.4806 - val_accuracy: 0.8324\n",
            "Epoch 13/100\n",
            "23/23 [==============================] - 0s 7ms/step - loss: 0.5227 - accuracy: 0.8034 - val_loss: 0.4785 - val_accuracy: 0.8268\n",
            "Epoch 14/100\n",
            "23/23 [==============================] - 0s 7ms/step - loss: 0.5144 - accuracy: 0.8048 - val_loss: 0.4736 - val_accuracy: 0.8268\n",
            "Epoch 15/100\n",
            "23/23 [==============================] - 0s 8ms/step - loss: 0.5097 - accuracy: 0.8104 - val_loss: 0.4685 - val_accuracy: 0.8268\n",
            "Epoch 16/100\n",
            "23/23 [==============================] - 0s 6ms/step - loss: 0.5081 - accuracy: 0.8062 - val_loss: 0.4642 - val_accuracy: 0.8268\n",
            "Epoch 17/100\n",
            "23/23 [==============================] - 0s 8ms/step - loss: 0.4972 - accuracy: 0.8146 - val_loss: 0.4574 - val_accuracy: 0.8268\n",
            "Epoch 18/100\n",
            "23/23 [==============================] - 0s 5ms/step - loss: 0.5055 - accuracy: 0.8104 - val_loss: 0.4554 - val_accuracy: 0.8380\n",
            "Epoch 19/100\n",
            "23/23 [==============================] - 0s 6ms/step - loss: 0.4889 - accuracy: 0.8244 - val_loss: 0.4506 - val_accuracy: 0.8380\n",
            "Epoch 20/100\n",
            "23/23 [==============================] - 0s 7ms/step - loss: 0.4909 - accuracy: 0.8020 - val_loss: 0.4466 - val_accuracy: 0.8380\n",
            "Epoch 21/100\n",
            "23/23 [==============================] - 0s 5ms/step - loss: 0.4878 - accuracy: 0.8090 - val_loss: 0.4409 - val_accuracy: 0.8380\n",
            "Epoch 22/100\n",
            "23/23 [==============================] - 0s 7ms/step - loss: 0.4941 - accuracy: 0.8174 - val_loss: 0.4413 - val_accuracy: 0.8436\n",
            "Epoch 23/100\n",
            "23/23 [==============================] - 0s 7ms/step - loss: 0.4857 - accuracy: 0.8076 - val_loss: 0.4404 - val_accuracy: 0.8380\n",
            "Epoch 24/100\n",
            "23/23 [==============================] - 0s 5ms/step - loss: 0.4835 - accuracy: 0.8132 - val_loss: 0.4385 - val_accuracy: 0.8436\n",
            "Epoch 25/100\n",
            "23/23 [==============================] - 0s 3ms/step - loss: 0.4719 - accuracy: 0.8174 - val_loss: 0.4334 - val_accuracy: 0.8380\n",
            "Epoch 26/100\n",
            "23/23 [==============================] - 0s 3ms/step - loss: 0.4829 - accuracy: 0.8146 - val_loss: 0.4367 - val_accuracy: 0.8492\n",
            "Epoch 27/100\n",
            "23/23 [==============================] - 0s 4ms/step - loss: 0.4695 - accuracy: 0.8118 - val_loss: 0.4332 - val_accuracy: 0.8436\n",
            "Epoch 28/100\n",
            "23/23 [==============================] - 0s 5ms/step - loss: 0.4703 - accuracy: 0.8118 - val_loss: 0.4314 - val_accuracy: 0.8547\n",
            "Epoch 29/100\n",
            "23/23 [==============================] - 0s 5ms/step - loss: 0.4678 - accuracy: 0.8188 - val_loss: 0.4299 - val_accuracy: 0.8547\n",
            "Epoch 30/100\n",
            "23/23 [==============================] - 0s 5ms/step - loss: 0.4688 - accuracy: 0.8230 - val_loss: 0.4300 - val_accuracy: 0.8547\n",
            "Epoch 31/100\n",
            "23/23 [==============================] - 0s 5ms/step - loss: 0.4738 - accuracy: 0.8188 - val_loss: 0.4292 - val_accuracy: 0.8492\n",
            "Epoch 32/100\n",
            "23/23 [==============================] - 0s 4ms/step - loss: 0.4597 - accuracy: 0.8174 - val_loss: 0.4260 - val_accuracy: 0.8380\n",
            "Epoch 33/100\n",
            "23/23 [==============================] - 0s 4ms/step - loss: 0.4646 - accuracy: 0.8062 - val_loss: 0.4244 - val_accuracy: 0.8436\n",
            "Epoch 34/100\n",
            "23/23 [==============================] - 0s 5ms/step - loss: 0.4644 - accuracy: 0.8174 - val_loss: 0.4276 - val_accuracy: 0.8436\n",
            "Epoch 35/100\n",
            "23/23 [==============================] - 0s 4ms/step - loss: 0.4608 - accuracy: 0.8160 - val_loss: 0.4208 - val_accuracy: 0.8380\n",
            "Epoch 36/100\n",
            "23/23 [==============================] - 0s 5ms/step - loss: 0.4683 - accuracy: 0.8216 - val_loss: 0.4192 - val_accuracy: 0.8547\n",
            "Epoch 37/100\n",
            "23/23 [==============================] - 0s 5ms/step - loss: 0.4669 - accuracy: 0.8188 - val_loss: 0.4167 - val_accuracy: 0.8547\n",
            "Epoch 38/100\n",
            "23/23 [==============================] - 0s 4ms/step - loss: 0.4622 - accuracy: 0.8146 - val_loss: 0.4221 - val_accuracy: 0.8547\n",
            "Epoch 39/100\n",
            "23/23 [==============================] - 0s 5ms/step - loss: 0.4529 - accuracy: 0.8202 - val_loss: 0.4215 - val_accuracy: 0.8436\n",
            "Epoch 40/100\n",
            "23/23 [==============================] - 0s 5ms/step - loss: 0.4649 - accuracy: 0.8132 - val_loss: 0.4165 - val_accuracy: 0.8547\n",
            "Epoch 41/100\n",
            "23/23 [==============================] - 0s 4ms/step - loss: 0.4603 - accuracy: 0.8020 - val_loss: 0.4218 - val_accuracy: 0.8436\n",
            "Epoch 42/100\n",
            "23/23 [==============================] - 0s 4ms/step - loss: 0.4486 - accuracy: 0.8230 - val_loss: 0.4155 - val_accuracy: 0.8547\n",
            "Epoch 43/100\n",
            "23/23 [==============================] - 0s 4ms/step - loss: 0.4576 - accuracy: 0.8146 - val_loss: 0.4113 - val_accuracy: 0.8547\n",
            "Epoch 44/100\n",
            "23/23 [==============================] - 0s 4ms/step - loss: 0.4623 - accuracy: 0.8174 - val_loss: 0.4178 - val_accuracy: 0.8436\n",
            "Epoch 45/100\n",
            "23/23 [==============================] - 0s 4ms/step - loss: 0.4598 - accuracy: 0.8104 - val_loss: 0.4127 - val_accuracy: 0.8547\n",
            "Epoch 46/100\n",
            "23/23 [==============================] - 0s 4ms/step - loss: 0.4512 - accuracy: 0.8230 - val_loss: 0.4152 - val_accuracy: 0.8547\n",
            "Epoch 47/100\n",
            "23/23 [==============================] - 0s 4ms/step - loss: 0.4551 - accuracy: 0.8202 - val_loss: 0.4147 - val_accuracy: 0.8547\n",
            "Epoch 48/100\n",
            "23/23 [==============================] - 0s 4ms/step - loss: 0.4522 - accuracy: 0.8160 - val_loss: 0.4106 - val_accuracy: 0.8603\n",
            "Epoch 49/100\n",
            "23/23 [==============================] - 0s 6ms/step - loss: 0.4472 - accuracy: 0.8188 - val_loss: 0.4172 - val_accuracy: 0.8547\n",
            "Epoch 50/100\n",
            "23/23 [==============================] - 0s 5ms/step - loss: 0.4557 - accuracy: 0.8216 - val_loss: 0.4097 - val_accuracy: 0.8603\n",
            "Epoch 51/100\n",
            "23/23 [==============================] - 0s 4ms/step - loss: 0.4513 - accuracy: 0.8244 - val_loss: 0.4114 - val_accuracy: 0.8547\n",
            "Epoch 52/100\n",
            "23/23 [==============================] - 0s 5ms/step - loss: 0.4549 - accuracy: 0.8174 - val_loss: 0.4097 - val_accuracy: 0.8547\n",
            "Epoch 53/100\n",
            "23/23 [==============================] - 0s 5ms/step - loss: 0.4573 - accuracy: 0.8244 - val_loss: 0.4102 - val_accuracy: 0.8547\n",
            "Epoch 54/100\n",
            "23/23 [==============================] - 0s 4ms/step - loss: 0.4481 - accuracy: 0.8146 - val_loss: 0.4112 - val_accuracy: 0.8547\n",
            "Epoch 55/100\n",
            "23/23 [==============================] - 0s 4ms/step - loss: 0.4510 - accuracy: 0.8202 - val_loss: 0.4119 - val_accuracy: 0.8547\n",
            "Epoch 56/100\n",
            "23/23 [==============================] - 0s 5ms/step - loss: 0.4517 - accuracy: 0.8230 - val_loss: 0.4089 - val_accuracy: 0.8547\n",
            "Epoch 57/100\n",
            "23/23 [==============================] - 0s 5ms/step - loss: 0.4463 - accuracy: 0.8160 - val_loss: 0.4079 - val_accuracy: 0.8547\n",
            "Epoch 58/100\n",
            "23/23 [==============================] - 0s 6ms/step - loss: 0.4492 - accuracy: 0.8202 - val_loss: 0.4094 - val_accuracy: 0.8547\n",
            "Epoch 59/100\n",
            "23/23 [==============================] - 0s 6ms/step - loss: 0.4379 - accuracy: 0.8216 - val_loss: 0.4058 - val_accuracy: 0.8547\n",
            "Epoch 60/100\n",
            "23/23 [==============================] - 0s 4ms/step - loss: 0.4356 - accuracy: 0.8258 - val_loss: 0.4092 - val_accuracy: 0.8547\n",
            "Epoch 61/100\n",
            "23/23 [==============================] - 0s 4ms/step - loss: 0.4463 - accuracy: 0.8216 - val_loss: 0.4030 - val_accuracy: 0.8492\n",
            "Epoch 62/100\n",
            "23/23 [==============================] - 0s 5ms/step - loss: 0.4458 - accuracy: 0.8272 - val_loss: 0.4079 - val_accuracy: 0.8547\n",
            "Epoch 63/100\n",
            "23/23 [==============================] - 0s 4ms/step - loss: 0.4516 - accuracy: 0.8174 - val_loss: 0.4089 - val_accuracy: 0.8547\n",
            "Epoch 64/100\n",
            "23/23 [==============================] - 0s 5ms/step - loss: 0.4505 - accuracy: 0.8090 - val_loss: 0.4076 - val_accuracy: 0.8547\n",
            "Epoch 65/100\n",
            "23/23 [==============================] - 0s 4ms/step - loss: 0.4497 - accuracy: 0.8258 - val_loss: 0.4074 - val_accuracy: 0.8547\n",
            "Epoch 66/100\n",
            "23/23 [==============================] - 0s 5ms/step - loss: 0.4471 - accuracy: 0.8188 - val_loss: 0.4086 - val_accuracy: 0.8547\n",
            "Epoch 67/100\n",
            "23/23 [==============================] - 0s 5ms/step - loss: 0.4423 - accuracy: 0.8216 - val_loss: 0.4099 - val_accuracy: 0.8492\n",
            "Epoch 68/100\n",
            "23/23 [==============================] - 0s 4ms/step - loss: 0.4409 - accuracy: 0.8202 - val_loss: 0.4043 - val_accuracy: 0.8492\n",
            "Epoch 69/100\n",
            "23/23 [==============================] - 0s 4ms/step - loss: 0.4458 - accuracy: 0.8244 - val_loss: 0.4048 - val_accuracy: 0.8492\n",
            "Epoch 70/100\n",
            "23/23 [==============================] - 0s 4ms/step - loss: 0.4487 - accuracy: 0.8104 - val_loss: 0.4021 - val_accuracy: 0.8492\n",
            "Epoch 71/100\n",
            "23/23 [==============================] - 0s 4ms/step - loss: 0.4436 - accuracy: 0.8188 - val_loss: 0.4049 - val_accuracy: 0.8547\n",
            "Epoch 72/100\n",
            "23/23 [==============================] - 0s 3ms/step - loss: 0.4393 - accuracy: 0.8272 - val_loss: 0.4013 - val_accuracy: 0.8547\n",
            "Epoch 73/100\n",
            "23/23 [==============================] - 0s 3ms/step - loss: 0.4450 - accuracy: 0.8188 - val_loss: 0.4036 - val_accuracy: 0.8547\n",
            "Epoch 74/100\n",
            "23/23 [==============================] - 0s 4ms/step - loss: 0.4426 - accuracy: 0.8202 - val_loss: 0.4008 - val_accuracy: 0.8547\n",
            "Epoch 75/100\n",
            "23/23 [==============================] - 0s 4ms/step - loss: 0.4426 - accuracy: 0.8174 - val_loss: 0.4044 - val_accuracy: 0.8547\n",
            "Epoch 76/100\n",
            "23/23 [==============================] - 0s 5ms/step - loss: 0.4409 - accuracy: 0.8160 - val_loss: 0.4037 - val_accuracy: 0.8492\n",
            "Epoch 77/100\n",
            "23/23 [==============================] - 0s 5ms/step - loss: 0.4422 - accuracy: 0.8230 - val_loss: 0.4051 - val_accuracy: 0.8547\n",
            "Epoch 78/100\n",
            "23/23 [==============================] - 0s 4ms/step - loss: 0.4395 - accuracy: 0.8272 - val_loss: 0.3995 - val_accuracy: 0.8492\n",
            "Epoch 79/100\n",
            "23/23 [==============================] - 0s 4ms/step - loss: 0.4468 - accuracy: 0.8188 - val_loss: 0.4058 - val_accuracy: 0.8547\n",
            "Epoch 80/100\n",
            "23/23 [==============================] - 0s 4ms/step - loss: 0.4476 - accuracy: 0.8202 - val_loss: 0.4072 - val_accuracy: 0.8547\n",
            "Epoch 81/100\n",
            "23/23 [==============================] - 0s 4ms/step - loss: 0.4384 - accuracy: 0.8132 - val_loss: 0.4073 - val_accuracy: 0.8492\n",
            "Epoch 82/100\n",
            "23/23 [==============================] - 0s 4ms/step - loss: 0.4399 - accuracy: 0.8230 - val_loss: 0.4011 - val_accuracy: 0.8492\n",
            "Epoch 83/100\n",
            "23/23 [==============================] - 0s 4ms/step - loss: 0.4427 - accuracy: 0.8174 - val_loss: 0.4007 - val_accuracy: 0.8492\n",
            "Epoch 84/100\n",
            "23/23 [==============================] - 0s 4ms/step - loss: 0.4423 - accuracy: 0.8230 - val_loss: 0.3989 - val_accuracy: 0.8492\n",
            "Epoch 85/100\n",
            "23/23 [==============================] - 0s 5ms/step - loss: 0.4400 - accuracy: 0.8202 - val_loss: 0.4041 - val_accuracy: 0.8492\n",
            "Epoch 86/100\n",
            "23/23 [==============================] - 0s 6ms/step - loss: 0.4374 - accuracy: 0.8160 - val_loss: 0.4062 - val_accuracy: 0.8547\n",
            "Epoch 87/100\n",
            "23/23 [==============================] - 0s 6ms/step - loss: 0.4441 - accuracy: 0.8146 - val_loss: 0.4005 - val_accuracy: 0.8547\n",
            "Epoch 88/100\n",
            "23/23 [==============================] - 0s 6ms/step - loss: 0.4417 - accuracy: 0.8244 - val_loss: 0.4015 - val_accuracy: 0.8492\n",
            "Epoch 89/100\n",
            "23/23 [==============================] - ETA: 0s - loss: 0.4407 - accuracy: 0.8076"
          ]
        }
      ]
    },
    {
      "cell_type": "code",
      "source": [
        "loss, accuracy = model.evaluate(X_test, y_test)\n",
        "print(f'Test Accuracy: {accuracy * 100 :.2f}')"
      ],
      "metadata": {
        "colab": {
          "base_uri": "https://localhost:8080/"
        },
        "id": "ffyjs-GAP9sE",
        "outputId": "80e204bc-731c-4f5d-b2df-da329c8791b1"
      },
      "execution_count": null,
      "outputs": [
        {
          "output_type": "stream",
          "name": "stdout",
          "text": [
            "6/6 [==============================] - 0s 4ms/step - loss: 0.4006 - accuracy: 0.8547\n",
            "Test Accuracy: 85.47\n"
          ]
        }
      ]
    }
  ]
}